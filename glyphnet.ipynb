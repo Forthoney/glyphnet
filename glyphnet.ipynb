{
 "cells": [
  {
   "cell_type": "code",
   "execution_count": 2,
   "id": "21619182-790b-4a8b-9122-9311438609ec",
   "metadata": {},
   "outputs": [],
   "source": [
    "import utils\n",
    "%load_ext tensorboard"
   ]
  },
  {
   "cell_type": "code",
   "execution_count": null,
   "id": "b24d186b-31a8-4fa6-8d59-66d2e9ddcbf8",
   "metadata": {},
   "outputs": [],
   "source": [
    "dataset = 'path/to/your/dataset'\n",
    "\n",
    "X_test, y_test = load_dataset(dataset, 'jpg')    # loads your dataset and extracts the label for each image\n",
    "\n",
    "y_test = label_enc.transform(y_test)    # encodes the labels using our set of data (label_enc is instantiated in the useful_functions notebook)\n",
    "n_classes = len(list(label_enc.classes_))\n",
    "\n",
    "# changes dimensions to the data to accomplish the requirements of the model\n",
    "X_test = np.asarray(X_test)\n",
    "X_test, y_test = add_extra_dim(X_test, y_test, n_classes)\n",
    "\n",
    "print('Test images dimensions:',np.shape(X_test))\n",
    "print('Test labels dimension:',np.shape(y_test))\n",
    "print('\\nNumber of labels:', n_classes)"
   ]
  },
  {
   "cell_type": "code",
   "execution_count": null,
   "id": "7c344ea4-4e4b-4835-a25b-e4f789f2fd7b",
   "metadata": {},
   "outputs": [],
   "source": [
    "model = build_model()\n",
    "model.load_weights('weights.hdf5')\n",
    "\n",
    "y_pred = model.predict(X_test)\n",
    "y_test_decoded = np.argmax(y_test, axis=1)\n",
    "y_pred_decoded = np.argmax(y_pred, axis=1)\n",
    "\n",
    "# Print f1, precision, and recall scores\n",
    "print(\"accuracy = \", accuracy_score(y_test_decoded, y_pred_decoded))\n",
    "print(\"precison = \", precision_score(y_test_decoded, y_pred_decoded , average=\"macro\"))\n",
    "print(\"recall = \", recall_score(y_test_decoded, y_pred_decoded , average=\"macro\"))\n",
    "print(\"f1_score =\", f1_score(y_test_decoded, y_pred_decoded , average=\"macro\"))\n",
    "print('--------------------------------------------------')\n",
    "\n",
    "X_test_reshape = X_test.reshape(X_test.shape[0], X_test.shape[1], X_test.shape[2]) \n",
    "get_prediction_data(y_pred, X_test_reshape, y_test, label_enc, \n",
    "                    summary=False, details=True, plot=(None,0,None))"
   ]
  }
 ],
 "metadata": {
  "kernelspec": {
   "display_name": "Python 3 (ipykernel)",
   "language": "python",
   "name": "python3"
  },
  "language_info": {
   "codemirror_mode": {
    "name": "ipython",
    "version": 3
   },
   "file_extension": ".py",
   "mimetype": "text/x-python",
   "name": "python",
   "nbconvert_exporter": "python",
   "pygments_lexer": "ipython3",
   "version": "3.9.15"
  }
 },
 "nbformat": 4,
 "nbformat_minor": 5
}
