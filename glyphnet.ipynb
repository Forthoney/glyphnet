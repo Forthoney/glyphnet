{
 "cells": [
  {
   "cell_type": "code",
   "execution_count": 7,
   "id": "21619182-790b-4a8b-9122-9311438609ec",
   "metadata": {},
   "outputs": [
    {
     "name": "stdout",
     "output_type": "stream",
     "text": [
      "The tensorboard extension is already loaded. To reload it, use:\n",
      "  %reload_ext tensorboard\n"
     ]
    }
   ],
   "source": [
    "import utils\n",
    "import numpy as np\n",
    "from sklearn.metrics import f1_score, precision_score, recall_score, accuracy_score\n",
    "%load_ext tensorboard"
   ]
  },
  {
   "cell_type": "code",
   "execution_count": 6,
   "id": "b24d186b-31a8-4fa6-8d59-66d2e9ddcbf8",
   "metadata": {},
   "outputs": [
    {
     "name": "stdout",
     "output_type": "stream",
     "text": [
      "error: imgs dataset dimension is 1 instead 3\n"
     ]
    },
    {
     "ename": "TypeError",
     "evalue": "cannot unpack non-iterable NoneType object",
     "output_type": "error",
     "traceback": [
      "\u001b[0;31m---------------------------------------------------------------------------\u001b[0m",
      "\u001b[0;31mTypeError\u001b[0m                                 Traceback (most recent call last)",
      "Cell \u001b[0;32mIn[6], line 10\u001b[0m\n\u001b[1;32m      8\u001b[0m \u001b[38;5;66;03m# changes dimensions to the data to accomplish the requirements of the model\u001b[39;00m\n\u001b[1;32m      9\u001b[0m X_test \u001b[38;5;241m=\u001b[39m np\u001b[38;5;241m.\u001b[39masarray(X_test)\n\u001b[0;32m---> 10\u001b[0m X_test, y_test \u001b[38;5;241m=\u001b[39m utils\u001b[38;5;241m.\u001b[39madd_extra_dim(X_test, y_test, n_classes)\n\u001b[1;32m     12\u001b[0m \u001b[38;5;28mprint\u001b[39m(\u001b[38;5;124m'\u001b[39m\u001b[38;5;124mTest images dimensions:\u001b[39m\u001b[38;5;124m'\u001b[39m, np\u001b[38;5;241m.\u001b[39mshape(X_test))\n\u001b[1;32m     13\u001b[0m \u001b[38;5;28mprint\u001b[39m(\u001b[38;5;124m'\u001b[39m\u001b[38;5;124mTest labels dimension:\u001b[39m\u001b[38;5;124m'\u001b[39m, np\u001b[38;5;241m.\u001b[39mshape(y_test))\n",
      "\u001b[0;31mTypeError\u001b[0m: cannot unpack non-iterable NoneType object"
     ]
    }
   ],
   "source": [
    "dataset = 'path/to/your/dataset'\n",
    "\n",
    "X_test, y_test = utils.load_dataset(dataset, 'jpg')    # loads your dataset and extracts the label for each image\n",
    "\n",
    "y_test = utils.label_enc.transform(y_test)    # encodes the labels using our set of data (label_enc is instantiated in the useful_functions notebook)\n",
    "n_classes = len(list(utils.label_enc.classes_))\n",
    "\n",
    "# changes dimensions to the data to accomplish the requirements of the model\n",
    "X_test = np.asarray(X_test)\n",
    "X_test, y_test = utils.add_extra_dim(X_test, y_test, n_classes)\n",
    "\n",
    "print('Test images dimensions:', np.shape(X_test))\n",
    "print('Test labels dimension:', np.shape(y_test))\n",
    "print('\\nNumber of labels:', n_classes)"
   ]
  },
  {
   "cell_type": "code",
   "execution_count": null,
   "id": "7c344ea4-4e4b-4835-a25b-e4f789f2fd7b",
   "metadata": {},
   "outputs": [],
   "source": [
    "model = utils.build_model()\n",
    "model.load_weights('weights.hdf5')\n",
    "\n",
    "y_pred = model.predict(X_test)\n",
    "y_test_decoded = np.argmax(y_test, axis=1)\n",
    "y_pred_decoded = np.argmax(y_pred, axis=1)\n",
    "\n",
    "# Print f1, precision, and recall scores\n",
    "print(\"accuracy = \", accuracy_score(y_test_decoded, y_pred_decoded))\n",
    "print(\"precison = \", precision_score(y_test_decoded, y_pred_decoded , average=\"macro\"))\n",
    "print(\"recall = \", recall_score(y_test_decoded, y_pred_decoded , average=\"macro\"))\n",
    "print(\"f1_score =\", f1_score(y_test_decoded, y_pred_decoded , average=\"macro\"))\n",
    "print('--------------------------------------------------')\n",
    "\n",
    "X_test_reshape = X_test.reshape(X_test.shape[0], X_test.shape[1], X_test.shape[2]) \n",
    "utils.get_prediction_data(y_pred, X_test_reshape, y_test, utils.label_enc, \n",
    "                    summary=False, details=True, plot=(None,0,None))"
   ]
  }
 ],
 "metadata": {
  "kernelspec": {
   "display_name": "Python 3 (ipykernel)",
   "language": "python",
   "name": "python3"
  },
  "language_info": {
   "codemirror_mode": {
    "name": "ipython",
    "version": 3
   },
   "file_extension": ".py",
   "mimetype": "text/x-python",
   "name": "python",
   "nbconvert_exporter": "python",
   "pygments_lexer": "ipython3",
   "version": "3.9.15"
  }
 },
 "nbformat": 4,
 "nbformat_minor": 5
}
